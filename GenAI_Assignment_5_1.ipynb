{
  "nbformat": 4,
  "nbformat_minor": 0,
  "metadata": {
    "colab": {
      "provenance": [],
      "authorship_tag": "ABX9TyNPziIYKv8D+2iEUso5jWgq"
    },
    "kernelspec": {
      "name": "python3",
      "display_name": "Python 3"
    },
    "language_info": {
      "name": "python"
    }
  },
  "cells": [
    {
      "cell_type": "code",
      "execution_count": 1,
      "metadata": {
        "colab": {
          "base_uri": "https://localhost:8080/"
        },
        "id": "8EV4VvE4GLuG",
        "outputId": "a5c2173f-3423-4dd9-9c90-1faba3d41166"
      },
      "outputs": [
        {
          "output_type": "stream",
          "name": "stdout",
          "text": [
            "Epoch 0, MSE: 2.7072692884207474\n",
            "Epoch 1000, MSE: 2.422930968907718e-07\n",
            "Epoch 2000, MSE: 2.3704903802240418e-07\n",
            "Epoch 3000, MSE: 2.350055927845031e-07\n",
            "Epoch 4000, MSE: 2.3299010731656481e-07\n",
            "Epoch 5000, MSE: 2.309960941056721e-07\n",
            "Epoch 6000, MSE: 2.29023250969232e-07\n",
            "Epoch 7000, MSE: 2.270712927154805e-07\n",
            "Epoch 8000, MSE: 2.2513993897049372e-07\n",
            "Epoch 9000, MSE: 2.2322891405759273e-07\n",
            "Training MSE: 2.2133794690195793e-07\n",
            "Test MSE: 6.141167962474555e-07\n",
            "Enter values for x1 and x2: 0.4 0.5\n",
            "Predicted output: 0.3597830736815313\n"
          ]
        }
      ],
      "source": [
        "import numpy as np\n",
        "\n",
        "def sigmoid(x):\n",
        "    return 1 / (1 + np.exp(-x))\n",
        "\n",
        "def sigmoid_derivative(x):\n",
        "    return x * (1 - x)\n",
        "\n",
        "def mean_squared_error(y_true, y_pred):\n",
        "    return np.mean((y_true - y_pred) ** 2)\n",
        "\n",
        "X_train = np.array([[0.1, 0.2], [0.2, 0.3], [0.3, 0.4], [0.6, 0.7], [0.7, 0.8], [0.8, 0.9]])\n",
        "y_train = np.array([[0.3432], [0.3490], [0.3548], [0.3720], [0.3776], [0.3832]])\n",
        "\n",
        "X_test = np.array([[0.4, 0.5], [0.5, 0.6]])\n",
        "y_test = np.array([[0.3606], [0.3663]])\n",
        "\n",
        "input_size = 2\n",
        "hidden_size = 3\n",
        "output_size = 1\n",
        "learning_rate = 0.1\n",
        "epochs = 10000\n",
        "\n",
        "np.random.seed(42)\n",
        "weights_input_hidden = np.random.rand(input_size, hidden_size)\n",
        "bias_hidden = np.random.rand(hidden_size)\n",
        "weights_hidden_output = np.random.rand(hidden_size, output_size)\n",
        "bias_output = np.random.rand(output_size)\n",
        "\n",
        "for epoch in range(epochs):\n",
        "    hidden_layer_input = np.dot(X_train, weights_input_hidden) + bias_hidden\n",
        "    hidden_layer_output = sigmoid(hidden_layer_input)\n",
        "    output_layer_input = np.dot(hidden_layer_output, weights_hidden_output) + bias_output\n",
        "    y_pred = output_layer_input\n",
        "\n",
        "    error = y_train - y_pred\n",
        "\n",
        "    d_output = error\n",
        "    d_hidden_layer = d_output.dot(weights_hidden_output.T) * sigmoid_derivative(hidden_layer_output)\n",
        "\n",
        "    weights_hidden_output += hidden_layer_output.T.dot(d_output) * learning_rate\n",
        "    bias_output += np.sum(d_output, axis=0) * learning_rate\n",
        "    weights_input_hidden += X_train.T.dot(d_hidden_layer) * learning_rate\n",
        "    bias_hidden += np.sum(d_hidden_layer, axis=0) * learning_rate\n",
        "\n",
        "    if epoch % 1000 == 0:\n",
        "        print(f\"Epoch {epoch}, MSE: {mean_squared_error(y_train, y_pred)}\")\n",
        "\n",
        "y_train_pred = np.dot(sigmoid(np.dot(X_train, weights_input_hidden) + bias_hidden), weights_hidden_output) + bias_output\n",
        "y_test_pred = np.dot(sigmoid(np.dot(X_test, weights_input_hidden) + bias_hidden), weights_hidden_output) + bias_output\n",
        "\n",
        "print(\"Training MSE:\", mean_squared_error(y_train, y_train_pred))\n",
        "print(\"Test MSE:\", mean_squared_error(y_test, y_test_pred))\n",
        "\n",
        "x1, x2 = map(float, input(\"Enter values for x1 and x2: \").split())\n",
        "user_input = np.array([[x1, x2]])\n",
        "hidden_layer_input = np.dot(user_input, weights_input_hidden) + bias_hidden\n",
        "hidden_layer_output = sigmoid(hidden_layer_input)\n",
        "output_layer_input = np.dot(hidden_layer_output, weights_hidden_output) + bias_output\n",
        "print(\"Predicted output:\", output_layer_input[0][0])\n"
      ]
    }
  ]
}